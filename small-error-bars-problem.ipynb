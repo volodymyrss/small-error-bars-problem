{
 "cells": [
  {
   "cell_type": "code",
   "execution_count": 9,
   "id": "a4c194ef",
   "metadata": {},
   "outputs": [
    {
     "name": "stderr",
     "output_type": "stream",
     "text": [
      "DEBUG:oda_api.custom_formatters:\u001b[37m NO custom formatter for instrument mock \u001b[0m\n",
      "DEBUG:oda_api.token:searching for token in environment variable ODA_TOKEN\n",
      "DEBUG:oda_api.token:failed to find token with current method: environment variable ODA_TOKEN: 'ODA_TOKEN'\n",
      "DEBUG:oda_api.token:searching for token in file in current directory\n",
      "DEBUG:oda_api.token:failed to find token with current method: file in current directory: [Errno 2] No such file or directory: '/home/savchenk/4u1730-22_nrt/.oda-token'\n",
      "DEBUG:oda_api.token:searching for token in file in home\n",
      "INFO:oda_api.token:decoding token with jwt and NOT verifying\n",
      "INFO:oda_api.token:found token in file in home your token payload: {\n",
      "    \"email\": \"Volodymyr.Savchenko@unige.ch\",\n",
      "    \"exp\": 1631865086.6340744,\n",
      "    \"msdone\": false,\n",
      "    \"mssub\": false,\n",
      "    \"name\": \"sitamin\",\n",
      "    \"roles\": \"authenticated user, administrator, content manager, general, integral-private-qla, magic, unige-hpc-full, public-pool-hpc, antares\",\n",
      "    \"sub\": \"Volodymyr.Savchenko@unige.ch\"\n",
      "}\n",
      "INFO:oda_api.token:token expires in 72.2 h\n",
      "DEBUG:oda_api.token:discovered token method file in home\n",
      "DEBUG:urllib3.connectionpool:Starting new HTTPS connection (1): www.astro.unige.ch:443\n",
      "DEBUG:urllib3.connectionpool:https://www.astro.unige.ch:443 \"GET /mmoda/dispatch-data/api/par-names?instrument=isgri&product_type=isgri_spectrum HTTP/1.1\" 200 152\n",
      "DEBUG:oda_api.api:dig_list unable to literal_eval src_name; problem malformed node or string: <_ast.Name object at 0x7fc6504b8460>\n",
      "DEBUG:oda_api.api:dig_list unable to literal_eval RA; problem malformed node or string: <_ast.Name object at 0x7fc6504b8610>\n",
      "DEBUG:oda_api.api:dig_list unable to literal_eval DEC; problem malformed node or string: <_ast.Name object at 0x7fc6504b8b80>\n",
      "DEBUG:oda_api.api:dig_list unable to literal_eval T1; problem malformed node or string: <_ast.Name object at 0x7fc6504b88e0>\n",
      "DEBUG:oda_api.api:dig_list unable to literal_eval T2; problem malformed node or string: <_ast.Name object at 0x7fc6504b8f40>\n",
      "DEBUG:oda_api.api:dig_list unable to literal_eval token; problem malformed node or string: <_ast.Name object at 0x7fc6504b8040>\n",
      "DEBUG:oda_api.api:dig_list unable to literal_eval scw_list; problem malformed node or string: <_ast.Name object at 0x7fc6504b8100>\n",
      "DEBUG:oda_api.api:dig_list unable to literal_eval selected_catalog; problem malformed node or string: <_ast.Name object at 0x7fc6504b81c0>\n",
      "DEBUG:oda_api.api:dig_list unable to literal_eval radius; problem malformed node or string: <_ast.Name object at 0x7fc6504b8280>\n",
      "DEBUG:oda_api.api:dig_list unable to literal_eval max_pointings; problem malformed node or string: <_ast.Name object at 0x7fc6504b82b0>\n",
      "DEBUG:oda_api.api:dig_list unable to literal_eval osa_version; problem malformed node or string: <_ast.Name object at 0x7fc6504b8790>\n",
      "DEBUG:oda_api.api:dig_list unable to literal_eval integral_data_rights; problem malformed node or string: <_ast.Name object at 0x7fc650047dc0>\n",
      "DEBUG:oda_api.api:dig_list unable to literal_eval E1_keV; problem malformed node or string: <_ast.Name object at 0x7fc6504b8580>\n",
      "DEBUG:oda_api.api:dig_list unable to literal_eval E2_keV; problem malformed node or string: <_ast.Name object at 0x7fc650047c40>\n",
      "DEBUG:oda_api.api.dispatcherapi:['240000370010.000', '240000380010.000', '240000390010.000', '240000400010.000', '240000410010.000', '240000420010.000', '240000430010.000', '240000440010.000', '240000450010.000', '240000460010.000', '240000470010.000', '240000480010.000', '240000490010.000', '240000540010.000', '240000550010.000', '240000560010.000', '240000570010.000', '240000580010.000', '240000590010.000', '240000650010.000', '240000660010.000', '240000670010.000']\n",
      "DEBUG:oda_api.custom_formatters:\u001b[37m selected custom formatter for instrument isgri \u001b[0m\n",
      "INFO:oda_api.api.dispatcherapi.progress:- waiting for remote response (since 2021-09-14 09:42:16), please wait for https://www.astro.unige.ch/mmoda/dispatch-data/run_analysis\n",
      "DEBUG:oda_api.api.dispatcherapi:payload size 2762, max for GET is 1000\n",
      "DEBUG:oda_api.api.dispatcherapi:switching to POST request due to large payload: 2762 > 1000\n",
      "DEBUG:oda_api.api.dispatcherapi:payload size 2762, max for GET is 1000\n",
      "DEBUG:oda_api.api.dispatcherapi:switching to POST request due to large payload: 2762 > 1000\n",
      "DEBUG:urllib3.connectionpool:Starting new HTTPS connection (1): www.astro.unige.ch:443\n",
      "DEBUG:urllib3.connectionpool:https://www.astro.unige.ch:443 \"POST /mmoda/dispatch-data/run_analysis HTTP/1.1\" 200 57750416\n",
      "INFO:oda_api.api:session: QH7NW5B1L5VSTN7M job: 865accc1e76c088e\n",
      "INFO:oda_api.api.dispatcherapi:\n",
      "... query status \u001b[35mprepared\u001b[0m => \u001b[35mdone\u001b[0m\n",
      "INFO:oda_api.api.dispatcherapi:... assigned job id: \u001b[33m865accc1e76c088e\u001b[0m\n",
      "INFO:oda_api.api.dispatcherapi:\u001b[32mquery COMPLETED SUCCESSFULLY (state done)\u001b[0m\n",
      "DEBUG:oda_api.api.dispatcherapi:poll returing data: complete\n",
      "INFO:oda_api.api.dispatcherapi:query complete: terminating\n"
     ]
    }
   ],
   "source": [
    "import logging\n",
    "\n",
    "logging.basicConfig(level='INFO')\n",
    "\n",
    "import oda_api.api\n",
    "import oda_api.token\n",
    "\n",
    "disp = oda_api.api.DispatcherAPI()\n",
    "\n",
    "prod = disp.get_product(\n",
    "    **{'scw_list': ['240000370010.000',\n",
    "    '240000380010.000',\n",
    "    '240000390010.000',\n",
    "    '240000400010.000',\n",
    "    '240000410010.000',\n",
    "    '240000420010.000',\n",
    "    '240000430010.000',\n",
    "    '240000440010.000',\n",
    "    '240000450010.000',\n",
    "    '240000460010.000',\n",
    "    '240000470010.000',\n",
    "    '240000480010.000',\n",
    "    '240000490010.000',\n",
    "    '240000540010.000',\n",
    "    '240000550010.000',\n",
    "    '240000560010.000',\n",
    "    '240000570010.000',\n",
    "    '240000580010.000',\n",
    "    '240000590010.000',\n",
    "    '240000650010.000',\n",
    "    '240000660010.000',\n",
    "    '240000670010.000'],\n",
    "   's_max': 50,\n",
    "   'wait': False,\n",
    "   'instrument': 'isgri',\n",
    "   'product': 'isgri_spectrum',\n",
    "   'product_type': 'Real',\n",
    "   'osa_version': 'OSA11.1',\n",
    "   'E1_keV': 28.0,\n",
    "   'E2_keV': 50.0,\n",
    "   'selected_catalog': '{\"cat_frame\": \"fk5\", \"cat_coord_units\": \"deg\", \"cat_column_list\": [[3, 25, 0, 54, 55, 62, 279, 294], [\"1E 1740.7-2942\", \"4U 1700-377\", \"4U 1730-22\", \"GRS 1758-258\", \"GX 1+4\", \"GX 354-0\", \"SLX 1735-269\", \"Sco X-1\"], [14.972199440002441, 27.823244094848633, 0.0, 49.149314880371094, 13.633378028869629, 14.956870079040527, 11.472009658813477, 8.384930610656738], [265.9871520996094, 255.98892211914062, 263.48749999999995, 270.3013610839844, 263.00555419921875, 262.97882080078125, 264.53228759765625, 244.98719787597656], [-29.748165130615234, -37.83116912841797, -22.03527777777778, -25.749523162841797, -24.737316131591797, -33.845279693603516, -27.021284103393555, -15.670984268188477], [-32768, -32768, 0, -32768, -32768, -32768, -32768, -32768], [2, 2, 2, 2, 2, 2, 2, 2], [0, 0, 1, 0, 0, 0, 0, 0], [2.9999999242136255e-05, 0.0002800000074785203, 0.001, 0.0002800000074785203, 0.0002800000074785203, 0.0002800000074785203, 0.00016999999934341758, 2.9999999242136255e-05]], \"cat_column_names\": [\"meta_ID\", \"src_names\", \"significance\", \"ra\", \"dec\", \"NEW_SOURCE\", \"ISGRI_FLAG\", \"FLAG\", \"ERR_RAD\"], \"cat_column_descr\": [[\"meta_ID\", \"<i8\"], [\"src_names\", \"<U14\"], [\"significance\", \"<f8\"], [\"ra\", \"<f8\"], [\"dec\", \"<f8\"], [\"NEW_SOURCE\", \"<i8\"], [\"ISGRI_FLAG\", \"<i8\"], [\"FLAG\", \"<i8\"], [\"ERR_RAD\", \"|O\"]], \"cat_lat_name\": \"dec\", \"cat_lon_name\": \"ra\"}',\n",
    "   'integral_data_rights': 'all-private',\n",
    "   'token': oda_api.token.discover_token()\n",
    "      },\n",
    ")"
   ]
  },
  {
   "cell_type": "code",
   "execution_count": 24,
   "id": "5686d5be",
   "metadata": {},
   "outputs": [
    {
     "data": {
      "text/plain": [
       "[]"
      ]
     },
     "execution_count": 24,
     "metadata": {},
     "output_type": "execute_result"
    },
    {
     "data": {
      "image/png": "[encoded data removed]",
      "text/plain": [
       "<Figure size 432x288 with 1 Axes>"
      ]
     },
     "metadata": {
      "needs_background": "light"
     },
     "output_type": "display_data"
    }
   ],
   "source": [
    "import logging\n",
    "\n",
    "logging.getLogger('matplotlib').setLevel('INFO')\n",
    "\n",
    "import matplotlib.pylab as plt\n",
    "\n",
    "from astropy.io import fits\n",
    "\n",
    "plt.figure()\n",
    "\n",
    "        \n",
    "d = prod.isgri_spectrum_0_4U1730m22_isgri_spectrum.data_unit[1].data\n",
    "e1 = prod.isgri_spectrum_2_4U1730m22_isgri_rmf.data_unit[1].data['E_MIN']\n",
    "m = e1>35\n",
    "\n",
    "plt.errorbar(\n",
    "    e1[m],\n",
    "    d['RATE'][m],\n",
    "    d['STAT_ERR'][m],\n",
    "    ls=\"\"\n",
    ")\n",
    "plt.step(\n",
    "    e1[m],\n",
    "    d['RATE'][m],\n",
    "    ls=\"\"\n",
    ")\n",
    "\n",
    "\n",
    "plt.semilogx()"
   ]
  }
 ],
 "metadata": {
  "kernelspec": {
   "display_name": "Python 3 (ipykernel)",
   "language": "python",
   "name": "python3"
  },
  "language_info": {
   "codemirror_mode": {
    "name": "ipython",
    "version": 3
   },
   "file_extension": ".py",
   "mimetype": "text/x-python",
   "name": "python",
   "nbconvert_exporter": "python",
   "pygments_lexer": "ipython3",
   "version": "3.8.11"
  }
 },
 "nbformat": 4,
 "nbformat_minor": 5
}
